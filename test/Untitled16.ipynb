{
 "cells": [
  {
   "cell_type": "code",
   "execution_count": 13,
   "id": "464082c3-8049-42c9-b8de-56f404e13bef",
   "metadata": {},
   "outputs": [],
   "source": [
    "import tkinter as tk\n",
    "from tkinter import messagebox\n",
    "root = tk.Tk()\n",
    "root.title(\"Sum of List Numbers\")\n",
    "numbers = [1, 2, 3, 4, 5, 6, 7, 8, 9, 10]\n",
    "from functools import reduce\n",
    "sum_numbers = reduce(lambda x, y: x + y, numbers)\n",
    "def display_result():\n",
    "    result = \"Sum of numbers: \" + str(sum_numbers)\n",
    "    messagebox.showinfo(\"Result\", result)\n",
    "button = tk.Button(root, text=\"Click to display result\", command=display_result)\n",
    "button.pack()\n",
    "root.mainloop()"
   ]
  },
  {
   "cell_type": "code",
   "execution_count": 5,
   "id": "6d73b54c-d9c1-4dcd-8346-607b8cd6a98c",
   "metadata": {},
   "outputs": [],
   "source": [
    "import tkinter as tk\n",
    "from tkinter import messagebox\n",
    "class SchoolRegistrationForm:\n",
    "    def __init__(self, root):\n",
    "        self.root = root\n",
    "        self.root.title(\"School Registration Form\")\n",
    "        self.name_label = tk.Label(root, text=\"Name:\")\n",
    "        self.name_label.grid(row=0, column=0)\n",
    "        self.name_entry = tk.Entry(root, width=30)\n",
    "        self.name_entry.grid(row=0, column=1)\n",
    "        self.age_label = tk.Label(root, text=\"Age:\")\n",
    "        self.age_label.grid(row=1, column=0)\n",
    "        self.age_entry = tk.Entry(root, width=30)\n",
    "        self.age_entry.grid(row=1, column=1)\n",
    "        self.grade_label = tk.Label(root, text=\"Grade:\")\n",
    "        self.grade_label.grid(row=2, column=0)\n",
    "        self.grade_entry = tk.Entry(root, width=30)\n",
    "        self.grade_entry.grid(row=2, column=1)\n",
    "        self.parent_name_label = tk.Label(root, text=\"Parent Name:\")\n",
    "        self.parent_name_label.grid(row=3, column=0)\n",
    "        self.parent_name_entry = tk.Entry(root, width=30)\n",
    "        self.parent_name_entry.grid(row=3, column=1)\n",
    "        self.parent_email_label = tk.Label(root, text=\"Parent Email:\")\n",
    "        self.parent_email_label.grid(row=4, column=0)\n",
    "        self.parent_email_entry = tk.Entry(root, width=30)\n",
    "        self.parent_email_entry.grid(row=4, column=1)\n",
    "        self.submit_button = tk.Button(root, text=\"Submit\", command=self.submit_form)\n",
    "        self.submit_button.grid(row=5, column=0, columnspan=2)\n",
    "\n",
    "    def submit_form(self):\n",
    "        name = self.name_entry.get()\n",
    "        age = self.age_entry.get()\n",
    "        grade = self.grade_entry.get()\n",
    "        parent_name = self.parent_name_entry.get()\n",
    "        parent_email = self.parent_email_entry.get()\n",
    "        if not name or not age or not grade or not parent_name or not parent_email:\n",
    "            messagebox.showerror(\"Error\", \"Please fill in all fields\")\n",
    "            return\n",
    "        messagebox.showinfo(\"Success\", \"Registration successful!\")\n",
    "        self.name_entry.delete(0, tk.END)\n",
    "        self.age_entry.delete(0, tk.END)\n",
    "        self.grade_entry.delete(0, tk.END)\n",
    "        self.parent_name_entry.delete(0, tk.END)\n",
    "        self.parent_email_entry.delete(0, tk.END)\n",
    "root = tk.Tk()\n",
    "form = SchoolRegistrationForm(root)\n",
    "root.mainloop()"
   ]
  }
 ],
 "metadata": {
  "kernelspec": {
   "display_name": "Python 3 (ipykernel)",
   "language": "python",
   "name": "python3"
  },
  "language_info": {
   "codemirror_mode": {
    "name": "ipython",
    "version": 3
   },
   "file_extension": ".py",
   "mimetype": "text/x-python",
   "name": "python",
   "nbconvert_exporter": "python",
   "pygments_lexer": "ipython3",
   "version": "3.12.4"
  }
 },
 "nbformat": 4,
 "nbformat_minor": 5
}

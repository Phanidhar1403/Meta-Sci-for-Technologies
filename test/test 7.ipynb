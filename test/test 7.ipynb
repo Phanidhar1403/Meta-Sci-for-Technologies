{
  "nbformat": 4,
  "nbformat_minor": 0,
  "metadata": {
    "colab": {
      "provenance": []
    },
    "kernelspec": {
      "name": "python3",
      "display_name": "Python 3"
    },
    "language_info": {
      "name": "python"
    }
  },
  "cells": [
    {
      "cell_type": "code",
      "execution_count": null,
      "metadata": {
        "colab": {
          "base_uri": "https://localhost:8080/"
        },
        "id": "3lhZiFRJjsrc",
        "outputId": "693629b8-446f-499e-e663-057fa2890fe1"
      },
      "outputs": [
        {
          "output_type": "stream",
          "name": "stdout",
          "text": [
            "Requirement already satisfied: requests in /usr/local/lib/python3.10/dist-packages (2.31.0)\n",
            "Requirement already satisfied: charset-normalizer<4,>=2 in /usr/local/lib/python3.10/dist-packages (from requests) (3.3.2)\n",
            "Requirement already satisfied: idna<4,>=2.5 in /usr/local/lib/python3.10/dist-packages (from requests) (3.7)\n",
            "Requirement already satisfied: urllib3<3,>=1.21.1 in /usr/local/lib/python3.10/dist-packages (from requests) (2.0.7)\n",
            "Requirement already satisfied: certifi>=2017.4.17 in /usr/local/lib/python3.10/dist-packages (from requests) (2024.7.4)\n"
          ]
        }
      ],
      "source": [
        "pip install requests"
      ]
    },
    {
      "cell_type": "code",
      "source": [
        "import requests\n",
        "url = \"https://jsonplaceholder.typicode.com/posts/1\"\n",
        "response = requests.get(url)\n",
        "if response.status_code == 200:\n",
        "    print(\"GET request successful.\")\n",
        "    print(response.json())\n",
        "else:\n",
        "    print(f\"GET request failed with status code {response.status_code}.\")"
      ],
      "metadata": {
        "colab": {
          "base_uri": "https://localhost:8080/"
        },
        "id": "Aw-kNEk7j40i",
        "outputId": "a648309e-0dfc-467d-f38a-2cfdb5ebf8d2"
      },
      "execution_count": null,
      "outputs": [
        {
          "output_type": "stream",
          "name": "stdout",
          "text": [
            "GET request successful.\n",
            "{'userId': 1, 'id': 1, 'title': 'sunt aut facere repellat provident occaecati excepturi optio reprehenderit', 'body': 'quia et suscipit\\nsuscipit recusandae consequuntur expedita et cum\\nreprehenderit molestiae ut ut quas totam\\nnostrum rerum est autem sunt rem eveniet architecto'}\n"
          ]
        }
      ]
    },
    {
      "cell_type": "code",
      "source": [
        "import requests\n",
        "url = \"https://jsonplaceholder.typicode.com/posts\"\n",
        "data = {\n",
        "    \"title\": \"foo\",\n",
        "    \"body\": \"bar\",\n",
        "    \"userId\": 1\n",
        "}\n",
        "response = requests.post(url, json=data)\n",
        "if response.status_code == 201:\n",
        "    print(\"POST request successful.\")\n",
        "    print(response.json())\n",
        "else:\n",
        "    print(f\"POST request failed with status code {response.status_code}.\")"
      ],
      "metadata": {
        "colab": {
          "base_uri": "https://localhost:8080/"
        },
        "id": "lIc96Leuj98J",
        "outputId": "58ef9faa-2ab7-4529-d174-756aa66166a4"
      },
      "execution_count": null,
      "outputs": [
        {
          "output_type": "stream",
          "name": "stdout",
          "text": [
            "POST request successful.\n",
            "{'title': 'foo', 'body': 'bar', 'userId': 1, 'id': 101}\n"
          ]
        }
      ]
    },
    {
      "cell_type": "code",
      "source": [
        "import string\n",
        "import random\n",
        "def generate_random_password(length=12):\n",
        "    characters = string.ascii_letters + string.digits + string.punctuation\n",
        "    password = ''.join(random.choice(characters) for i in range(length))\n",
        "    return password\n",
        "print(generate_random_password())"
      ],
      "metadata": {
        "colab": {
          "base_uri": "https://localhost:8080/"
        },
        "id": "3VNttlJLkCS7",
        "outputId": "538eb58c-1073-4438-f56e-20f0819d148e"
      },
      "execution_count": null,
      "outputs": [
        {
          "output_type": "stream",
          "name": "stdout",
          "text": [
            "tYLg*]LAEx]9\n"
          ]
        }
      ]
    },
    {
      "cell_type": "code",
      "source": [
        "import requests\n",
        "def fetch_random_quote_quotable():\n",
        "    url = \"https://api.quotable.io/random\"\n",
        "    response = requests.get(url)\n",
        "    if response.status_code == 200:\n",
        "        data = response.json()\n",
        "        return data['content'] + \" - \" + data['author']\n",
        "    else:\n",
        "        return f\"Failed to fetch quote with status code {response.status_code}.\"\n",
        "print(fetch_random_quote_quotable())\n"
      ],
      "metadata": {
        "colab": {
          "base_uri": "https://localhost:8080/"
        },
        "id": "Q4DTGZX1kF0f",
        "outputId": "fa3e23d9-d89b-4874-e1c4-3bea177b6a62"
      },
      "execution_count": null,
      "outputs": [
        {
          "output_type": "stream",
          "name": "stdout",
          "text": [
            "When in doubt, don't. - Benjamin Franklin\n"
          ]
        }
      ]
    },
    {
      "cell_type": "code",
      "source": [
        "import requests\n",
        "def fetch_random_quote_chucknorris():\n",
        "    url = \"https://api.chucknorris.io/jokes/random\"\n",
        "    response = requests.get(url)\n",
        "    if response.status_code == 200:\n",
        "        data = response.json()\n",
        "        return data['value']\n",
        "    else:\n",
        "        return f\"Failed to fetch quote with status code {response.status_code}.\"\n",
        "print(fetch_random_quote_chucknorris())"
      ],
      "metadata": {
        "colab": {
          "base_uri": "https://localhost:8080/"
        },
        "id": "2n4H6g1TkLPI",
        "outputId": "63f4fc2c-6dfb-4447-e270-e9b4375ec87b"
      },
      "execution_count": null,
      "outputs": [
        {
          "output_type": "stream",
          "name": "stdout",
          "text": [
            "Chuck Norris did the Moon Walk Under Water\n"
          ]
        }
      ]
    },
    {
      "cell_type": "code",
      "source": [
        "import random\n",
        "def random_quote_engine():\n",
        "    quote_sources = [fetch_random_quote_quotable, fetch_random_quote_chucknorris]\n",
        "    selected_quote_function = random.choice(quote_sources)\n",
        "    return selected_quote_function()\n",
        "print(random_quote_engine())"
      ],
      "metadata": {
        "colab": {
          "base_uri": "https://localhost:8080/"
        },
        "id": "u5k51IeOkRxT",
        "outputId": "88d8c354-85be-47a1-94ce-c844890d321a"
      },
      "execution_count": null,
      "outputs": [
        {
          "output_type": "stream",
          "name": "stdout",
          "text": [
            "If you're walking down the right path and you're willing to keep walking, eventually you'll make progress. - Barack Obama\n"
          ]
        }
      ]
    }
  ]
}
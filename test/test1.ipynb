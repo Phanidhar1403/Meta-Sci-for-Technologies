{
  "nbformat": 4,
  "nbformat_minor": 0,
  "metadata": {
    "colab": {
      "provenance": []
    },
    "kernelspec": {
      "name": "python3",
      "display_name": "Python 3"
    },
    "language_info": {
      "name": "python"
    }
  },
  "cells": [
    {
      "cell_type": "markdown",
      "source": [
        "The RTO (Regional Transport Office) website holds a registration form which is responsible for registering a user for a Driving License. The RTO wants to take the next step if and only if the user's age is greater than or equal to 18.\n",
        "\n",
        "Scenario 1 : When Traffic Light is Red\n",
        "\n",
        "Jake, a 20 year old teenager has learnt to ride a bike and is a bit confused with the traffic signals. He doesn't know what to do when the signal is red.\n",
        "\n",
        "So In this scenario Jake should just know what Jake should do when the signal is red whether he should leave or stop.\n",
        "\n",
        "So Write a If-Else condition to guide Jake"
      ],
      "metadata": {
        "id": "TNt-Znd6TUUJ"
      }
    },
    {
      "cell_type": "code",
      "source": [
        "name=input(\"enter name:\")\n",
        "age=int(input(\"enter age:\"))\n",
        "if age>=18:\n",
        "    print(name,\"your eligible to register for drving license\")\n",
        "    traffic_light=input()\n",
        "    if traffic_light==\"red\":\n",
        "        print(\"stop\")\n",
        "    else:\n",
        "      print(\"go\")\n",
        "else:\n",
        "    print(name, \"you're not eligible to register for driving license\")"
      ],
      "metadata": {
        "colab": {
          "base_uri": "https://localhost:8080/"
        },
        "id": "kBVJpx2-TY2H",
        "outputId": "814c38fe-4485-4e15-cd6f-0ef568ea4af3"
      },
      "execution_count": null,
      "outputs": [
        {
          "output_type": "stream",
          "name": "stdout",
          "text": [
            "enter name:jack\n",
            "enter age:20\n",
            "jack your eligible to register for drving license\n",
            "red\n",
            "stop\n"
          ]
        }
      ]
    },
    {
      "cell_type": "markdown",
      "source": [
        "Mary, a 15 year old girl, was watching her mom making a budget list every month, either her mom use to forget few things or she use to go out of budget due to no proper grocery list that says quantity of items, prices and stuff.\n",
        "\n",
        "So Mary wants to help her mom in managing the monthly groceries by creating an app that takes grocery item name, item price and quantity of item.\n",
        "\n",
        "Before all this, the app is suppose to accept the budget amount, if shopping list items price cross over the budget amount then any new items should not be added to the list.\n",
        "\n",
        "There should be 2 things in the menu of the app one to add an item and the second option to exit from the menu once the add item is chosen, then the item name, item quantity and item price should be accepted and the price should be checked with the budget amount. If the item amount is crossing the budget amount then the item cannot be added to the list.\n",
        "\n",
        "If the exit option is chosen then the total budget amount and the"
      ],
      "metadata": {
        "id": "3AebbZovU6Ox"
      }
    },
    {
      "cell_type": "code",
      "source": [
        "budget = float(input(\"Enter your budget amount: \"))\n",
        "grocery_list = []\n",
        "current_total = 0.0\n",
        "\n",
        "while True:\n",
        "    print(\"\\nMenu:\")\n",
        "    print(\"1. Add an item\")\n",
        "    print(\"2. Exit\")\n",
        "    choice = int(input(\"Choose an option (1 or 2): \"))\n",
        "\n",
        "    if choice == 1:\n",
        "        item_name = input(\"Enter the name of the item: \")\n",
        "        item_quantity = int(input(\"Enter the quantity of the item: \"))\n",
        "        item_price = float(input(\"Enter the price of the item: \"))\n",
        "        total_item_price = item_quantity * item_price\n",
        "        if current_total + total_item_price > budget:\n",
        "            print(f\"Cannot add {item_name} to the list. It exceeds the budget.\")\n",
        "        else:\n",
        "            grocery_list.append((item_name, item_quantity, item_price))\n",
        "            current_total += total_item_price\n",
        "            print(f\"Added {item_name} to the list. Current total is {current_total:.2f}.\")\n",
        "\n",
        "    elif choice == 2:\n",
        "        print(\"\\nExiting the app.\")\n",
        "        print(f\"Total budget: {budget:.2f}\")\n",
        "        print(f\"Total spent: {current_total:.2f}\")\n",
        "        print(\"Grocery List:\")\n",
        "        for item in grocery_list:\n",
        "            print(f\"Item: {item[0]}, Quantity: {item[1]}, Price per item: {item[2]:.2f}\")\n",
        "        break\n",
        "\n",
        "    else:\n",
        "        print(\"Invalid choice. Please choose again.\")\n"
      ],
      "metadata": {
        "colab": {
          "base_uri": "https://localhost:8080/"
        },
        "id": "Vr4aD4FTWCbX",
        "outputId": "5bf140e7-8e41-4253-b50a-45501bae40d2"
      },
      "execution_count": null,
      "outputs": [
        {
          "output_type": "stream",
          "name": "stdout",
          "text": [
            "Enter your budget amount: 100\n",
            "\n",
            "Menu:\n",
            "1. Add an item\n",
            "2. Exit\n",
            "Choose an option (1 or 2): 1\n",
            "Enter the name of the item: apple\n",
            "Enter the quantity of the item: 5\n",
            "Enter the price of the item: 20\n",
            "Added apple to the list. Current total is 100.00.\n",
            "\n",
            "Menu:\n",
            "1. Add an item\n",
            "2. Exit\n",
            "Choose an option (1 or 2): 2\n",
            "\n",
            "Exiting the app.\n",
            "Total budget: 100.00\n",
            "Total spent: 100.00\n",
            "Grocery List:\n",
            "Item: apple, Quantity: 5, Price per item: 20.00\n"
          ]
        }
      ]
    },
    {
      "cell_type": "markdown",
      "source": [
        "Sameer, a resident of India met John, a resident of california on facebook and they became friends, just in a conversation they planned to know each other's height and there was a problem, John would understand only if told in centimeter(cm) format. So write a program to help John to understand Sameer’s height in python to convert Feet & Inches To CM"
      ],
      "metadata": {
        "id": "5V6X7Fbheeut"
      }
    },
    {
      "cell_type": "code",
      "source": [
        "feet=float(input(\"enter feet:\"))\n",
        "inches=float(input(\"enter inches:\"))\n",
        "feet_to_cm=feet*30.48\n",
        "inches_to_cm=inches*2.54\n",
        "centimeter=feet_to_cm+inches_to_cm\n",
        "print(\"centimeter:\",centimeter)"
      ],
      "metadata": {
        "colab": {
          "base_uri": "https://localhost:8080/"
        },
        "id": "bH5GLc7Wcl2Y",
        "outputId": "d2ce9b31-5167-412c-a141-2bb7393736b0"
      },
      "execution_count": null,
      "outputs": [
        {
          "output_type": "stream",
          "name": "stdout",
          "text": [
            "enter feet:5\n",
            "enter inches:6\n",
            "centimeter: 167.64000000000001\n"
          ]
        }
      ]
    }
  ]
}
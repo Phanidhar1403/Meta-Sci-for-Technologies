{
  "nbformat": 4,
  "nbformat_minor": 0,
  "metadata": {
    "colab": {
      "provenance": []
    },
    "kernelspec": {
      "name": "python3",
      "display_name": "Python 3"
    },
    "language_info": {
      "name": "python"
    }
  },
  "cells": [
    {
      "cell_type": "markdown",
      "source": [
        "5 friends decided to go for a picnic and they start discussing the items which they have to take with\n",
        "them. They wanted to create a list where they can add items one by one. To help them, write a\n",
        "program in python to create an empty list. Then use for loop and append() method to add items one by\n",
        "one. ( Note: Range of loop depends on the number of items that have to be included in the list.) After\n",
        "adding all the items ask whether the user whether wants to remove any items or not and then print the\n",
        "whole list on the screen."
      ],
      "metadata": {
        "id": "oQt-LgQoghuz"
      }
    },
    {
      "cell_type": "code",
      "source": [
        "items=[]\n",
        "num=int(input(\"No:of items need to add:\"))\n",
        "for i in range(num):\n",
        "    item=input(\"Enter item:\")\n",
        "    items.append(item)\n",
        "print(items)\n",
        "remove=input(\"Do you want to remove any item:\")\n",
        "if remove==\"yes\":\n",
        "    item=input(\"Enter item to remove:\")\n",
        "    items.remove(item)\n",
        "    print(items)\n",
        "else:\n",
        "    print(items)\n"
      ],
      "metadata": {
        "colab": {
          "base_uri": "https://localhost:8080/"
        },
        "id": "SwnQFlKrgis0",
        "outputId": "fd7655a5-04b2-4b2f-9da5-0533e6d2be95"
      },
      "execution_count": null,
      "outputs": [
        {
          "output_type": "stream",
          "name": "stdout",
          "text": [
            "No:of items need to add:2\n",
            "Enter item:snacks\n",
            "Enter item:bat and ball\n",
            "['snacks', 'bat and ball']\n",
            "Do you want to remove any item:no\n",
            "['snacks', 'bat and ball']\n"
          ]
        }
      ]
    },
    {
      "cell_type": "markdown",
      "source": [
        "A teacher created a list of names of the students. Now teachers want to get the name of all those\n",
        "students whose name starts with the letter “A”. To help the teacher write a python program and create\n",
        "a list of names of students. Then print the names which start with the letter “A”. (Hint: Use for loop and\n",
        "give condition I [0] == “A” )"
      ],
      "metadata": {
        "id": "wfxatc79hy-q"
      }
    },
    {
      "cell_type": "code",
      "source": [
        "student_names=[]\n",
        "num=int(input(\"No:of students:\"))\n",
        "for i in range(num):\n",
        "    name=input(\"Enter student name:\")\n",
        "    student_names.append(name)\n",
        "name=input(\"Enter name to search:\")\n",
        "for i in student_names:\n",
        "    if i[0]==name[0]:\n",
        "        print(i)"
      ],
      "metadata": {
        "colab": {
          "base_uri": "https://localhost:8080/"
        },
        "id": "9Xcwj2rCh8ff",
        "outputId": "c4611605-8c0e-4c71-e481-10809a59d471"
      },
      "execution_count": null,
      "outputs": [
        {
          "output_type": "stream",
          "name": "stdout",
          "text": [
            "No:of students:4\n",
            "Enter student name:phanidhar\n",
            "Enter student name:isac\n",
            "Enter student name:sujay\n",
            "Enter student name:sampath\n",
            "Enter name to search:s\n",
            "sujay\n",
            "sampath\n"
          ]
        }
      ]
    },
    {
      "cell_type": "markdown",
      "source": [
        "In a class, the teacher decides to assign roll numbers to the students in alphabetical order of their\n",
        "names. The class consists of more than 60 students. So the class monitor decides to create a list in\n",
        "python to take the name of the students in any order and then will print the list in sorted order with roll\n",
        "numbers. ( Hint: use append() method to add the names in the list and then use sort() function on the\n",
        "list ) . After sorting the list, the Index number of the list can be used to assign the roll numbers to the\n",
        "students. ( Hint : roll no = index + 1 )"
      ],
      "metadata": {
        "id": "eu02YvgYi2Hl"
      }
    },
    {
      "cell_type": "code",
      "source": [
        "student_names=[]\n",
        "num=int(input(\"No:of students:\"))\n",
        "for i in range(num):\n",
        "    name=input(\"Enter student name:\")\n",
        "    student_names.append(name)\n",
        "student_names.sort()\n",
        "for i in range(len(student_names)):\n",
        "    print(i+1,student_names[i])"
      ],
      "metadata": {
        "colab": {
          "base_uri": "https://localhost:8080/"
        },
        "id": "2dNRw47ai_nR",
        "outputId": "2c61706d-d9d4-445a-dc7f-86c76f5de6ef"
      },
      "execution_count": null,
      "outputs": [
        {
          "output_type": "stream",
          "name": "stdout",
          "text": [
            "No:of students:3\n",
            "Enter student name:phani\n",
            "Enter student name:sujay\n",
            "Enter student name:isac\n",
            "1 isac\n",
            "2 phani\n",
            "3 sujay\n"
          ]
        }
      ]
    },
    {
      "cell_type": "markdown",
      "source": [
        "Nidhi is trying to solve a few questions in mathematics. She is actually finding out the central tendency(\n",
        "mean, median, and mode ) of some numbers. It is taking a lot of time for her to complete the\n",
        "questions. Help Nidhi in solving the following questions. Write the program for each of them.\n",
        "● .\n",
        "● She wants to find the mean of numbers. Write a program to find the mean of numbers.\n",
        "● Hint: find the sum of all the numbers in the list then divide it with the number of elements present in the\n",
        "list.\n",
        "● .\n",
        "● Shen wants to find the median as well. Write a program to find the median of numbers in the given list.\n",
        "● Hint: Sort the entire list the print the middle value of the list. If the list contains n numbers where n is\n",
        "even, then find the mean of the middle values.\n",
        "● .\n",
        "● Lastly, she wants to find the mode of numbers. To help Nidhi in this problem, write a program in python\n",
        "where users can enter n numbers as input, and then the program will print the mode of numbers.\n",
        "● Hint: Print the number having maximum count in the list."
      ],
      "metadata": {
        "id": "UuYVRKuUjxK6"
      }
    },
    {
      "cell_type": "code",
      "source": [
        "def mean(numbers):\n",
        "    add=sum(numbers)\n",
        "    mean=add/len(numbers)\n",
        "    return mean\n",
        "def median(numbers):\n",
        "  num=sorted(numbers)\n",
        "  if len(num)%2==0:\n",
        "    median=(num[len(num)//2]+num[len(num)//2-1])/2\n",
        "  else:\n",
        "    median=num[len(num)//2]\n",
        "  return median\n",
        "def mode(numbers):\n",
        "    mode=max(numbers,key=numbers.count)\n",
        "    return mode\n",
        "number=list(map(int,input(\"Enter numbers:\").split(',')))\n",
        "print(\"Mean:\",mean(number))\n",
        "print(\"Median:\",median(number))\n",
        "print(\"Mode:\",mode(number))"
      ],
      "metadata": {
        "colab": {
          "base_uri": "https://localhost:8080/"
        },
        "id": "ALLnHG4PkGv3",
        "outputId": "0cd970a5-5a72-485f-cd5d-5ea341498fd8"
      },
      "execution_count": null,
      "outputs": [
        {
          "output_type": "stream",
          "name": "stdout",
          "text": [
            "Enter numbers:1,2,5,6,4,9,8\n",
            "Mean: 5.0\n",
            "Median: 5\n",
            "Mode: 1\n"
          ]
        }
      ]
    },
    {
      "cell_type": "markdown",
      "source": [
        "In a school, a football competition is going to be held. The sports captain needs to create a list of the\n",
        "players with their heights. According to the rule, only those students can participate in the competition\n",
        "who have a height greater than 167cm. To make things easier write a python program. Create a list of\n",
        "tuples with the name of the player and their height in cm. Note: while taking the input from the users,\n",
        "don’t include the players whose height is less than 167cm. ( Use continue statement )\n",
        "● Sample list: [ (“Chris” , 170) , (“Aditya” , 182) , (“Chirag” , 176 ) ]"
      ],
      "metadata": {
        "id": "v1l8dJP_mXoM"
      }
    },
    {
      "cell_type": "code",
      "source": [
        "players=[]\n",
        "num=int(input(\"No:of players:\"))\n",
        "for i in range(num):\n",
        "    name=input(\"Enter player name:\")\n",
        "    height=int(input(\"Enter player height:\"))\n",
        "    if height<167:\n",
        "        continue\n",
        "    players.append((name,height))\n",
        "print(players)"
      ],
      "metadata": {
        "colab": {
          "base_uri": "https://localhost:8080/"
        },
        "id": "VAw4KFjGmebd",
        "outputId": "d5e7a5cb-26da-441e-cb2b-343f04c87511"
      },
      "execution_count": null,
      "outputs": [
        {
          "output_type": "stream",
          "name": "stdout",
          "text": [
            "No:of players:2\n",
            "Enter player name:phani\n",
            "Enter player height:172\n",
            "Enter player name:isac\n",
            "Enter player height:175\n",
            "[('phani', 172), ('isac', 175)]\n"
          ]
        }
      ]
    }
  ]
}
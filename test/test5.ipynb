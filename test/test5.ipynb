{
  "nbformat": 4,
  "nbformat_minor": 0,
  "metadata": {
    "colab": {
      "provenance": []
    },
    "kernelspec": {
      "name": "python3",
      "display_name": "Python 3"
    },
    "language_info": {
      "name": "python"
    }
  },
  "cells": [
    {
      "cell_type": "markdown",
      "source": [
        "A Candy Vending Machine is topped up and is supposed to deliver the number of candies entered by the user but before delivering the candies the vending machine is supposed to ask the user to enter the amount for the candies where each candy is worth 1 dollar. So write a python program that can be loaded into the vending machine so that the vending machine can act accordingly.\n"
      ],
      "metadata": {
        "id": "xDzVUlHleIZK"
      }
    },
    {
      "cell_type": "code",
      "source": [
        "total_candies = int(input(\"Enter the number of candies to load into the vending machine: \"))\n",
        "print(\"Candy Vending Machine\")\n",
        "print(f\"Total number of candies : {total_candies}\")\n",
        "CandiesUserWants = int(input(\"Enter the number of candies you want: \"))\n",
        "if CandiesUserWants > total_candies:\n",
        "    print(\"The requried no:of candies are not there in the vending machine\")\n",
        "else:\n",
        "    total_cost = CandiesUserWants * 1\n",
        "    print(\"The amount to be paid is: $\",total_cost)\n",
        "    UserMoney = int(input(\"Enter the amount you are paying: \"))\n",
        "    if UserMoney == total_cost:\n",
        "      for i in range(CandiesUserWants):\n",
        "            print(\"Delivering candy...\")\n",
        "      total_candies -= CandiesUserWants\n",
        "      print(\"Number of candies left in the vending machine:\",total_candies)\n",
        "      print(\"Thank you for using the Candy Vending Machine. Have a nice day!\")\n",
        "    else:\n",
        "        print(\"You entered the wrong amount. Try again!\")"
      ],
      "metadata": {
        "colab": {
          "base_uri": "https://localhost:8080/"
        },
        "id": "ON73E6u1eJUj",
        "outputId": "aedf22bd-d7f4-4521-abb7-600ed20ff84e"
      },
      "execution_count": null,
      "outputs": [
        {
          "output_type": "stream",
          "name": "stdout",
          "text": [
            "Enter the number of candies to load into the vending machine: 10\n",
            "Candy Vending Machine\n",
            "Total number of candies : 10\n",
            "Enter the number of candies you want: 5\n",
            "The amount to be paid is: $ 5\n",
            "Enter the amount you are paying: 4\n",
            "You entered the wrong amount. Try again!\n",
            "Number of candies left in the vending machine: 10\n"
          ]
        }
      ]
    },
    {
      "cell_type": "markdown",
      "source": [
        "Mathew, a 13 year old kid, is good at math but whenever it comes to the even and odd numbers he always faces difficulty to find the even or odd number greater than 10. So write a python program to help Mathew to print odd and even numbers in a certain range using a for loop.\n",
        "\n"
      ],
      "metadata": {
        "id": "KKA78D3Wfd2O"
      }
    },
    {
      "cell_type": "code",
      "source": [
        "num1=int(input(\"Enter the num:\"))\n",
        "num2=int(input(\"Enter the num:\"))\n",
        "for i in range(num1,num2+1):\n",
        "  if i%2==0:\n",
        "    print(i,\"even\")\n",
        "  else:\n",
        "    print(i,\"odd\")"
      ],
      "metadata": {
        "colab": {
          "base_uri": "https://localhost:8080/"
        },
        "id": "DMoWToMGfgYg",
        "outputId": "68b0040f-b253-47b7-d86e-f2f7d4147c4c"
      },
      "execution_count": null,
      "outputs": [
        {
          "output_type": "stream",
          "name": "stdout",
          "text": [
            "Enter the num:11\n",
            "Enter the num:20\n",
            "11 odd\n",
            "12 even\n",
            "13 odd\n",
            "14 even\n",
            "15 odd\n",
            "16 even\n",
            "17 odd\n",
            "18 even\n",
            "19 odd\n",
            "20 even\n"
          ]
        }
      ]
    },
    {
      "cell_type": "markdown",
      "source": [
        "create a program to the find total number of upper letters,lower letters,digits and the symbols using if elif else, for loop and string operations\n"
      ],
      "metadata": {
        "id": "tEeRlfS0gVLY"
      }
    },
    {
      "cell_type": "code",
      "source": [
        "string = input(\"Enter a string: \")\n",
        "upper = 0\n",
        "lower = 0\n",
        "digit = 0\n",
        "symbol = 0\n",
        "for i in string:\n",
        "    if i.isupper():\n",
        "        upper += 1\n",
        "    elif i.islower():\n",
        "        lower += 1\n",
        "    elif i.isdigit():\n",
        "        digit += 1\n",
        "    else:\n",
        "        symbol += 1\n",
        "print(\"Total number of uppercase letters:\",upper)\n",
        "print(\"Total number of lowercase letters:\",lower)\n",
        "print(\"Total number of digits:\",digit)\n",
        "print(\"Total number of symbols:\",symbol)\n"
      ],
      "metadata": {
        "colab": {
          "base_uri": "https://localhost:8080/"
        },
        "id": "KoheBhxSgY6Y",
        "outputId": "d3357fef-38d9-4974-c10f-81c1cbf73222"
      },
      "execution_count": null,
      "outputs": [
        {
          "output_type": "stream",
          "name": "stdout",
          "text": [
            "Enter a string: Phanidhar 192 !@#$$\n",
            "Total number of uppercase letters: 1\n",
            "Total number of lowercase letters: 8\n",
            "Total number of digits: 3\n",
            "Total number of symbols: 7\n"
          ]
        }
      ]
    },
    {
      "cell_type": "markdown",
      "source": [
        "Mrs. Olivia, a entrepreneur, is running a mini business and wanted to create a very simple form which takes only the user's name and the user's password so that all her customers can have access to her business dashboard. Mrs. Olivia wants her customers to just enter the password with only alphabets and no numbers allowed for some reason.Mrs. Olivia just knows how to create a form but she doesn't know how to give the validation. So to help Mrs. Olivia, write a python program to validate Mrs.Olivia's form where password should only consist of alphabets. Hint:Use isalpha() function."
      ],
      "metadata": {
        "id": "GZTamD9liGep"
      }
    },
    {
      "cell_type": "code",
      "source": [
        "user_name=input(\"enter your name:\")\n",
        "password=input(\"enter your password:\")\n",
        "if password.isalpha():\n",
        "  print(\"The form is submitted\")\n",
        "else:\n",
        "  print(\"The form is not submitted, please use only letters in password\")"
      ],
      "metadata": {
        "colab": {
          "base_uri": "https://localhost:8080/"
        },
        "id": "x9glpx4jiF-m",
        "outputId": "3b122d3e-1fe1-440f-9d4b-0858100afde1"
      },
      "execution_count": null,
      "outputs": [
        {
          "output_type": "stream",
          "name": "stdout",
          "text": [
            "enter your name:phani1411\n",
            "enter your password:kommalapati\n",
            "The form is submitted\n"
          ]
        }
      ]
    },
    {
      "cell_type": "markdown",
      "source": [
        "Christiana is a kid who is born on leap year, but she doesn't know which year would be a leap year for her so that she can celebrate her birthday hence write a python program to help Chirstiana in finding out if the given year is a leap year or not\n"
      ],
      "metadata": {
        "id": "dX8fsjE3jUef"
      }
    },
    {
      "cell_type": "code",
      "source": [
        "year=int(input(\"Enter the year:\"))\n",
        "if year%4==0:\n",
        "  print(\"The year is a leap year\")\n",
        "else:\n",
        "  print(\"This is not a leap year\")"
      ],
      "metadata": {
        "colab": {
          "base_uri": "https://localhost:8080/"
        },
        "id": "Gp8Kp3dpjXz6",
        "outputId": "6b21b895-74bc-477f-bfa9-d5d22b5d4de9"
      },
      "execution_count": null,
      "outputs": [
        {
          "output_type": "stream",
          "name": "stdout",
          "text": [
            "Enter the year:2023\n",
            "This is not a leap year\n"
          ]
        }
      ]
    }
  ]
}
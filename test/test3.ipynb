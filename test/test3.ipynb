{
  "nbformat": 4,
  "nbformat_minor": 0,
  "metadata": {
    "colab": {
      "provenance": []
    },
    "kernelspec": {
      "name": "python3",
      "display_name": "Python 3"
    },
    "language_info": {
      "name": "python"
    }
  },
  "cells": [
    {
      "cell_type": "code",
      "execution_count": null,
      "metadata": {
        "colab": {
          "base_uri": "https://localhost:8080/"
        },
        "id": "ftuyimdn9g67",
        "outputId": "aa62af97-e7f6-48b1-db2a-0437d60bd740"
      },
      "outputs": [
        {
          "output_type": "stream",
          "name": "stdout",
          "text": [
            "enter rows:5\n",
            "enter cols:2\n",
            "10\n"
          ]
        }
      ],
      "source": [
        "rows=int(input(\"enter rows:\"))\n",
        "cols=int(input(\"enter cols:\"))\n",
        "benches=rows*cols\n",
        "print(benches)"
      ]
    },
    {
      "cell_type": "code",
      "source": [
        "authorization_code =int(input(\"enter authorization code:\"))\n",
        "guests=0\n",
        "if authorization_code==1:\n",
        "    print(\"Door Opened \\nWelcome to the Party, We Hope you have fun.\")\n",
        "    guests=guests+1\n",
        "    print(\"Guests:\",guests)\n",
        "elif authorization_code==0:\n",
        "  print(\"Access Granted \\nDoor Opened\")\n",
        "else:\n",
        "  print(\"Access Denied\")"
      ],
      "metadata": {
        "colab": {
          "base_uri": "https://localhost:8080/"
        },
        "id": "gTzX2pOe-Cny",
        "outputId": "2edb9c1d-07b7-4091-e82a-75eae33d34ef"
      },
      "execution_count": null,
      "outputs": [
        {
          "output_type": "stream",
          "name": "stdout",
          "text": [
            "enter authorization code:1\n",
            "Door Opened \n",
            "Welcome to the Party, We Hope you have fun.\n",
            "Guests: 1\n"
          ]
        }
      ]
    },
    {
      "cell_type": "code",
      "source": [
        "num1=int(input(\"enter num1:\"))\n",
        "num2=int(input(\"enter num2:\"))\n",
        "even=[]\n",
        "odd=[]\n",
        "for i in range(num1,num2):\n",
        "  if i%2==0:\n",
        "    even.append(i)\n",
        "  else:\n",
        "    odd.append(i)\n",
        "print(\"even number:\",even)\n",
        "print(\"odd number:\",odd)"
      ],
      "metadata": {
        "colab": {
          "base_uri": "https://localhost:8080/"
        },
        "id": "RLi8sFib_vae",
        "outputId": "59691591-1adb-428c-ae90-4918964c7afd"
      },
      "execution_count": null,
      "outputs": [
        {
          "output_type": "stream",
          "name": "stdout",
          "text": [
            "enter num1:11\n",
            "enter num2:20\n",
            "even number: [12, 14, 16, 18]\n",
            "odd number: [11, 13, 15, 17, 19]\n"
          ]
        }
      ]
    },
    {
      "cell_type": "code",
      "source": [
        "essay_writting=input(\"give input:\")\n",
        "no_of_words=0\n",
        "space_count=0\n",
        "for i in essay_writting:\n",
        "  if i==\" \":\n",
        "    space_count+=1\n",
        "    no_of_words=space_count+1\n",
        "print(\"no of words:\",no_of_words)\n",
        "if no_of_words>=250:\n",
        "  print(\"this essay contains more than 250 words\")\n",
        "else:\n",
        "  print(\"this essay contains less than 250 words\")"
      ],
      "metadata": {
        "colab": {
          "base_uri": "https://localhost:8080/"
        },
        "id": "snjnJKQmBxZ3",
        "outputId": "5b0786a7-7a9d-488c-afd1-c6b98a5ec2b1"
      },
      "execution_count": null,
      "outputs": [
        {
          "output_type": "stream",
          "name": "stdout",
          "text": [
            "give input:this is kommalapati phanidhar\n",
            "no of words: 4\n",
            "this essay contains less than 250 words\n"
          ]
        }
      ]
    },
    {
      "cell_type": "code",
      "source": [
        "num=int(input(\"enter the number:\"))\n",
        "prime_number=True\n",
        "for i in range(2,num):\n",
        "  if num%i==0:\n",
        "    prime_number=False\n",
        "    break\n",
        "if prime_number:\n",
        "  print(\"prime number\")\n",
        "else:\n",
        "  print(\"not prime number\")"
      ],
      "metadata": {
        "colab": {
          "base_uri": "https://localhost:8080/"
        },
        "id": "87nf0hOGDgxY",
        "outputId": "e81b0de3-10be-453d-e9db-20d892003e9a"
      },
      "execution_count": null,
      "outputs": [
        {
          "output_type": "stream",
          "name": "stdout",
          "text": [
            "enter the number:5\n",
            "prime number\n"
          ]
        }
      ]
    }
  ]
}
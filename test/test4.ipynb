{
  "nbformat": 4,
  "nbformat_minor": 0,
  "metadata": {
    "colab": {
      "provenance": []
    },
    "kernelspec": {
      "name": "python3",
      "display_name": "Python 3"
    },
    "language_info": {
      "name": "python"
    }
  },
  "cells": [
    {
      "cell_type": "markdown",
      "source": [
        "Create a Atm program using while loop major one"
      ],
      "metadata": {
        "id": "k1Mf1H-TBtla"
      }
    },
    {
      "cell_type": "code",
      "source": [
        "balance=10000\n",
        "while True:\n",
        "  print(\"1.withdrawl\")\n",
        "  print(\"2.deposit\")\n",
        "  print(\"3.balace\")\n",
        "  print(\"4.exit\")\n",
        "  choice=int(input(\"enter your choice\"))\n",
        "  if choice==1:\n",
        "    amt=int(input(\"Enter amount:\"))\n",
        "    if amt>balance:\n",
        "      print(\"insufficient balance\")\n",
        "    else:\n",
        "      balance=balance-amt\n",
        "      print(\"withdrawl successful\")\n",
        "      print(\"your balance is:\",balance)\n",
        "      break\n",
        "  elif choice==2:\n",
        "    amt=int(input(\"Enter amount:\"))\n",
        "    balance=balance+amt\n",
        "    print(\"deposit successful\")\n",
        "    print(\"your balance is:\",balance)\n",
        "    break\n",
        "  elif choice==3:\n",
        "    print(\"your balance is:\",balance)\n",
        "    break\n",
        "  elif choice==4:\n",
        "    print(\"exit\")\n",
        "    break\n",
        "  else:\n",
        "    print(\"invalid choice\")\n",
        "\n"
      ],
      "metadata": {
        "colab": {
          "base_uri": "https://localhost:8080/"
        },
        "id": "6bc93IIrB5BB",
        "outputId": "f035b1dd-7e4d-4eee-990d-4a380b76e839"
      },
      "execution_count": null,
      "outputs": [
        {
          "output_type": "stream",
          "name": "stdout",
          "text": [
            "1.withdrawl\n",
            "2.deposit\n",
            "3.balace\n",
            "4.exit\n",
            "enter your choice1\n",
            "Enter amount:5000\n",
            "withdrawl successful\n",
            "your balance is: 5000\n"
          ]
        }
      ]
    },
    {
      "cell_type": "markdown",
      "source": [
        "Create a chatbot major one"
      ],
      "metadata": {
        "id": "IU9-m92iEW2g"
      }
    },
    {
      "cell_type": "code",
      "source": [
        "responce={\"hello\":\"How can I help you\",\"hi\":\"this is chatbot what do you want to know?\"}\n",
        "Uinput=input(\"you: \")\n",
        "while True:\n",
        "  if Uinput in responce:\n",
        "    print(\"chatbot:\",responce[Uinput])\n",
        "    break\n",
        "  else:\n",
        "    print(\"chatbot\",\"I don't understand\")\n",
        "    break"
      ],
      "metadata": {
        "colab": {
          "base_uri": "https://localhost:8080/"
        },
        "id": "DSUF6XyPEjJt",
        "outputId": "829c5147-d56a-4dea-a757-6e07831bc2df"
      },
      "execution_count": null,
      "outputs": [
        {
          "output_type": "stream",
          "name": "stdout",
          "text": [
            "you: hi\n",
            "chatbot: this is chatbot what do you want to know?\n"
          ]
        }
      ]
    }
  ]
}
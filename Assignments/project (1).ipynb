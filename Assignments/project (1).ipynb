{
 "cells": [
  {
   "cell_type": "code",
   "execution_count": 6,
   "id": "58ba6dfc-4bea-4ba2-a6fb-c469dccaa5c6",
   "metadata": {},
   "outputs": [],
   "source": [
    "import tkinter as tk\n",
    "from random import choice\n",
    "class RandomNamePicker:\n",
    "    def __init__(self, root, student_names):\n",
    "        self.root = root\n",
    "        self.student_names = student_names\n",
    "        self.completed_names = []\n",
    "\n",
    "        self.name_label = tk.Label(root, text=\"\", font=('Helvetica', 24))\n",
    "        self.name_label.pack()\n",
    "\n",
    "        self.completed_label = tk.Label(root, text=\"Completed:\", font=('Helvetica', 18))\n",
    "        self.completed_label.pack()\n",
    "\n",
    "        self.completed_listbox = tk.Listbox(root)\n",
    "        self.completed_listbox.pack()\n",
    "\n",
    "        self.pick_button = tk.Button(root, text=\"Pick a Name\", command=self.pick_name)\n",
    "        self.pick_button.pack()\n",
    "    def pick_name(self):\n",
    "        if self.student_names:\n",
    "            name = choice(self.student_names)\n",
    "            self.student_names.remove(name)\n",
    "            self.completed_names.append(name)\n",
    "            self.name_label['text'] = name\n",
    "            self.completed_listbox.insert(tk.END, name)\n",
    "        else:\n",
    "            self.name_label['text'] = \"No more names to pick!\"\n",
    "root = tk.Tk()\n",
    "student_names = [\"charan\", \"sujay\", \"phanidhar\", \"isac\", \"Sampath\",\"ganesh\"]\n",
    "picker = RandomNamePicker(root, student_names)\n",
    "root.mainloop()"
   ]
  }
 ],
 "metadata": {
  "kernelspec": {
   "display_name": "Python 3 (ipykernel)",
   "language": "python",
   "name": "python3"
  },
  "language_info": {
   "codemirror_mode": {
    "name": "ipython",
    "version": 3
   },
   "file_extension": ".py",
   "mimetype": "text/x-python",
   "name": "python",
   "nbconvert_exporter": "python",
   "pygments_lexer": "ipython3",
   "version": "3.12.4"
  }
 },
 "nbformat": 4,
 "nbformat_minor": 5
}

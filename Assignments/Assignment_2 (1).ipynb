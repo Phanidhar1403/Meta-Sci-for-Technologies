{
  "nbformat": 4,
  "nbformat_minor": 0,
  "metadata": {
    "colab": {
      "provenance": []
    },
    "kernelspec": {
      "name": "python3",
      "display_name": "Python 3"
    },
    "language_info": {
      "name": "python"
    }
  },
  "cells": [
    {
      "cell_type": "code",
      "execution_count": 1,
      "metadata": {
        "colab": {
          "base_uri": "https://localhost:8080/"
        },
        "id": "Hq6JSz2aSfdO",
        "outputId": "5b72f36f-9f48-4904-d693-08d2504c8139"
      },
      "outputs": [
        {
          "output_type": "stream",
          "name": "stdout",
          "text": [
            "15\n"
          ]
        }
      ],
      "source": [
        "chocolates=327\n",
        "students=78\n",
        "remaining_chocolates=chocolates%students\n",
        "print(remaining_chocolates)"
      ]
    },
    {
      "cell_type": "code",
      "source": [
        "name=input(\"Enter your name:\")\n",
        "mobilenumber=int(input(\"Enter your mobile number:\"))\n",
        "age=int(input(\"Enter your age:\"))\n",
        "email=input(\"Enter your mail id:\")\n",
        "print(\"hi\",name,\"!! Thanks for visiting our restaurant and registering for our lucky draw competition on our 25th Anniversary.\")\n",
        "print(\"Once the lucky draw results are announced you will receive a message on your mobile number :\",mobilenumber)\n",
        "print(\"An detailed description of your gift on your email Id :\",email)\n",
        "print(\"Thank you for being a valued customer\",name)\n",
        "print(\"Dominos\")"
      ],
      "metadata": {
        "colab": {
          "base_uri": "https://localhost:8080/"
        },
        "id": "-8WMi-rqTXgu",
        "outputId": "47c7cf60-a42e-4c2d-dc91-5ead73bcd8f7"
      },
      "execution_count": 2,
      "outputs": [
        {
          "output_type": "stream",
          "name": "stdout",
          "text": [
            "Enter your name:phanidhar\n",
            "Enter your mobile number:9491204555\n",
            "Enter your age:21\n",
            "Enter your mail id:pkommalapati1411@gmail.com\n",
            "hi phanidhar !! Thanks for visiting our restaurant and registering for our lucky draw competition on our 25th Anniversary.\n",
            "Once the lucky draw results are announced you will receive a message on your mobile number : 9491204555\n",
            "An detailed description of your gift on your email Id : pkommalapati1411@gmail.com\n",
            "Thank you for being a valued customer phanidhar\n",
            "Dominos\n"
          ]
        }
      ]
    },
    {
      "cell_type": "code",
      "source": [
        "total_students=60\n",
        "students_for_team=4\n",
        "total_teams=total_students/students_for_team\n",
        "print(total_teams)"
      ],
      "metadata": {
        "colab": {
          "base_uri": "https://localhost:8080/"
        },
        "id": "mnKVnxtv-z11",
        "outputId": "c8d0d73f-1a8d-4581-b410-877297524acd"
      },
      "execution_count": 5,
      "outputs": [
        {
          "output_type": "stream",
          "name": "stdout",
          "text": [
            "15.0\n"
          ]
        }
      ]
    },
    {
      "cell_type": "code",
      "source": [
        " Fahrenheit=float(input(\"Enter the temperature in Fahrenheit:\"))\n",
        " Celsius=(Fahrenheit-32)*5/9\n",
        " print(\"temperature in Celsius:\",Celsius)"
      ],
      "metadata": {
        "colab": {
          "base_uri": "https://localhost:8080/"
        },
        "id": "DtyQ2oZEAOcX",
        "outputId": "9b5239a1-f31d-45ce-a991-f503a8c52ad7"
      },
      "execution_count": 9,
      "outputs": [
        {
          "output_type": "stream",
          "name": "stdout",
          "text": [
            "Enter the temperature in Fahrenheit:32\n",
            "temperature in Celsius: 0.0\n"
          ]
        }
      ]
    }
  ]
}
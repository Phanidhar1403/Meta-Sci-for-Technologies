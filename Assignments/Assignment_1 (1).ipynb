{
  "nbformat": 4,
  "nbformat_minor": 0,
  "metadata": {
    "colab": {
      "provenance": []
    },
    "kernelspec": {
      "name": "python3",
      "display_name": "Python 3"
    },
    "language_info": {
      "name": "python"
    }
  },
  "cells": [
    {
      "cell_type": "code",
      "execution_count": 4,
      "metadata": {
        "colab": {
          "base_uri": "https://localhost:8080/"
        },
        "id": "8wFnexk1GEsM",
        "outputId": "2b55bd78-b032-44a5-f279-760b2ba5e4cc"
      },
      "outputs": [
        {
          "output_type": "stream",
          "name": "stdout",
          "text": [
            "Arvind\n",
            "phanidhar21\n"
          ]
        }
      ],
      "source": [
        "print(\"Arvind\")\n",
        "print(\"phanidhar\"+\"21\")"
      ]
    },
    {
      "cell_type": "code",
      "source": [
        "print(\"-----\\n|   |\\n|   |\\n-----\")\n",
        "print(\"-----\\n|   |\\n|   |\\n|   |\\n-----\")\n",
        "print(\" /\\\\\\n/ \\\\\")\n",
        "print(\"---\")"
      ],
      "metadata": {
        "colab": {
          "base_uri": "https://localhost:8080/"
        },
        "id": "FXBRbHJdHLKZ",
        "outputId": "514ee404-5363-44c1-bf79-862839ae2d59"
      },
      "execution_count": 24,
      "outputs": [
        {
          "output_type": "stream",
          "name": "stdout",
          "text": [
            "-----\n",
            "|   |\n",
            "|   |\n",
            "-----\n",
            "-----\n",
            "|   |\n",
            "|   |\n",
            "|   |\n",
            "-----\n",
            " /\\\n",
            "/ \\\n",
            "---\n"
          ]
        }
      ]
    },
    {
      "cell_type": "code",
      "source": [
        "print(\"phanidhar\\nchandu\\nisac\\nsampath\\nsujay\")"
      ],
      "metadata": {
        "colab": {
          "base_uri": "https://localhost:8080/"
        },
        "id": "yIFRkn7OKhZY",
        "outputId": "9ef14fd4-b2c6-409b-b0e9-37b8a3da1123"
      },
      "execution_count": 25,
      "outputs": [
        {
          "output_type": "stream",
          "name": "stdout",
          "text": [
            "phanidhar\n",
            "chandu\n",
            "isac\n",
            "sampath\n",
            "sujay\n"
          ]
        }
      ]
    },
    {
      "cell_type": "code",
      "source": [
        "from ctypes import LittleEndianStructure\n",
        "name = input(\"enter your name: \")\n",
        "age= int(input(\"enter age\"))\n",
        "place = input(\"enter your place\")\n",
        "study = input(\"enter your study\")\n",
        "college = input(\"enter your college\")\n",
        "Language = input(\"enter your language\")\n",
        "print(\"my name is\", name,\"i am \",age,\"old.I live in \",place,\".I am studeing\",study,\"at\",college,\"i had learn basics of\",Language,\".\")"
      ],
      "metadata": {
        "colab": {
          "base_uri": "https://localhost:8080/"
        },
        "id": "F_BU3SApKwsk",
        "outputId": "9729747a-01dd-4ab2-8ab9-6be1e6861b9c"
      },
      "execution_count": 1,
      "outputs": [
        {
          "output_type": "stream",
          "name": "stdout",
          "text": [
            "enter your name: phani\n",
            "enter age21\n",
            "enter your placeongole\n",
            "enter your studybtech computer science\n",
            "enter your collegealliance university\n",
            "enter your languagepython\n",
            "my name is phani i am  21 old.I live in  ongole .I am studeing btech computer science at alliance university i had learn basics of  python .\n"
          ]
        }
      ]
    },
    {
      "cell_type": "code",
      "source": [
        "print(\"Hi, I am a chatbot. What is your name?\")\n",
        "name= input()\n",
        "print(\"Oh,\",name,\"in which grade you are right now?\")\n",
        "grade= int(input())\n",
        "print(name,\"you are in\",grade,\"th grade.Can I ask you one question? yes or no?\")\n",
        "res= input()\n",
        "if res==\"yes\":\n",
        "  print(\"Tell me 1024+98=?\")\n",
        "  ans=int(input())\n",
        "  if ans==1122:\n",
        "    print(\"Good! Your answer is correct. Bye\")\n",
        "else:\n",
        "  print(\"Bye\")"
      ],
      "metadata": {
        "colab": {
          "base_uri": "https://localhost:8080/"
        },
        "id": "qoFi8mRWgdMz",
        "outputId": "9d52ee2c-a3d3-4cb6-ddad-3ad090e46fcf"
      },
      "execution_count": 4,
      "outputs": [
        {
          "output_type": "stream",
          "name": "stdout",
          "text": [
            "Hi, I am a chatbot. What is your name?\n",
            "phani\n",
            "Oh, phani in which grade you are right now?\n",
            "8\n",
            "phani you are in 8 th grade.Can I ask you one question? yes or no?\n",
            "yes\n",
            "Tell me 1024+98=?\n",
            "1122\n",
            "Good! Your answer is correct. Bye\n"
          ]
        }
      ]
    },
    {
      "cell_type": "code",
      "source": [
        "numof_books=int(input())\n",
        "books_price=2\n",
        "total_price=numof_books*books_price\n",
        "print(\"the total_priceof the books is:$\",total_price)"
      ],
      "metadata": {
        "colab": {
          "base_uri": "https://localhost:8080/"
        },
        "id": "x2zxcuFuin9p",
        "outputId": "07983f3f-031d-489b-a239-3e30a7b9c6c1"
      },
      "execution_count": 8,
      "outputs": [
        {
          "output_type": "stream",
          "name": "stdout",
          "text": [
            "5\n",
            "the total_priceof the books is:$ 10\n"
          ]
        }
      ]
    },
    {
      "cell_type": "code",
      "source": [
        "num1=int(input())\n",
        "num2=int(input())\n",
        "operation=input()\n",
        "if operation==\"+\":\n",
        "  result=num1+num2\n",
        "elif operation==\"-\":\n",
        "  result=num1-num2\n",
        "elif operation==\"*\":\n",
        "  result=num1*num2\n",
        "elif operation==\"/\":\n",
        "  result=num1/num2\n",
        "else:\n",
        "  print(\"invalid operation\")\n",
        "print(\"the sum of the two numbers is:\",result)"
      ],
      "metadata": {
        "colab": {
          "base_uri": "https://localhost:8080/"
        },
        "id": "C4lc-6rNjaNd",
        "outputId": "2dbe9ca1-a056-4cd8-e8b7-5c1172892f9e"
      },
      "execution_count": 13,
      "outputs": [
        {
          "output_type": "stream",
          "name": "stdout",
          "text": [
            "10\n",
            "2\n",
            "/\n",
            "the sum of the two numbers is: 5.0\n"
          ]
        }
      ]
    },
    {
      "cell_type": "code",
      "source": [
        "from datetime import datetime\n",
        "current_year = datetime.now().year\n",
        "birth_year = int(input(\"Enter your birth year: \"))\n",
        "age = current_year - birth_year\n",
        "print(\"You are\", age, \"years old.\")"
      ],
      "metadata": {
        "colab": {
          "base_uri": "https://localhost:8080/"
        },
        "id": "APoFS-pGmuWv",
        "outputId": "5123b5d2-0100-4932-dab3-b6d0266cdb4a"
      },
      "execution_count": 16,
      "outputs": [
        {
          "output_type": "stream",
          "name": "stdout",
          "text": [
            "Enter your birth year: 2003\n",
            "You are 21 years old.\n"
          ]
        }
      ]
    }
  ]
}